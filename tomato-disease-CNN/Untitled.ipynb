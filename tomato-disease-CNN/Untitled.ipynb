{
 "cells": [
  {
   "cell_type": "code",
   "execution_count": 1,
   "id": "7b2468fe",
   "metadata": {},
   "outputs": [],
   "source": [
    "import tensorflow as tf\n",
    "from tensorflow.keras.layers import Dense,Activation,Flatten, Conv2D, MaxPooling2D\n",
    "from tensorflow.keras.callbacks import ModelCheckpoint,EarlyStopping\n",
    "from tensorflow.keras.preprocessing.image import ImageDataGenerator\n",
    "from tensorflow.keras.models import Sequential\n",
    "from matplotlib.image import imread\n",
    "import matplotlib.pyplot as plt\n",
    "import numpy as np"
   ]
  },
  {
   "cell_type": "code",
   "execution_count": 2,
   "id": "43a9aa5a",
   "metadata": {},
   "outputs": [],
   "source": [
    "\n",
    "train = r'C:\\Users\\naksh\\Documents\\ML opencv projectd\\tomato\\train'\n",
    "test  = r'C:\\Users\\naksh\\Documents\\ML opencv projectd\\tomato\\val'\n",
    "\n",
    "trainDIR = r'C:\\Users\\naksh\\Documents\\ML opencv projectd\\tomato\\train'\n",
    "testDIR  = r'C:\\Users\\naksh\\Documents\\ML opencv projectd\\tomato\\val'\n"
   ]
  },
  {
   "cell_type": "code",
   "execution_count": 3,
   "id": "d792b844",
   "metadata": {},
   "outputs": [],
   "source": [
    "\n",
    "size = 224\n",
    "batch_size = 32\n",
    "epoch = 10"
   ]
  },
  {
   "cell_type": "code",
   "execution_count": 11,
   "id": "5880a65d",
   "metadata": {},
   "outputs": [
    {
     "name": "stdout",
     "output_type": "stream",
     "text": [
      "Found 8000 images belonging to 10 classes.\n",
      "Found 1000 images belonging to 10 classes.\n"
     ]
    }
   ],
   "source": [
    "\n",
    "datagen=ImageDataGenerator(rescale=1./255,shear_range=0.2,zoom_range=0.2,horizontal_flip=True,vertical_flip=True,validation_split=0.2)\n",
    "\n",
    "\n",
    "X_train = datagen.flow_from_directory(train,\n",
    "                                      target_size=(size,size),\n",
    "                                      batch_size=batch_size,\n",
    "                                      class_mode='categorical',\n",
    "                                      subset='training')\n",
    "\n",
    "\n",
    "X_test = ImageDataGenerator(rescale=1./255).flow_from_directory(test,\n",
    "                                     target_size=(size,size),\n",
    "                                     batch_size=batch_size,\n",
    "                                     class_mode='categorical',\n",
    "                                     subset='training')\n",
    "                                     \n",
    "\n",
    "\n"
   ]
  },
  {
   "cell_type": "code",
   "execution_count": 12,
   "id": "9e662778",
   "metadata": {},
   "outputs": [
    {
     "data": {
      "text/plain": [
       "dict_keys(['Tomato___Bacterial_spot', 'Tomato___Early_blight', 'Tomato___Late_blight', 'Tomato___Leaf_Mold', 'Tomato___Septoria_leaf_spot', 'Tomato___Spider_mites Two-spotted_spider_mite', 'Tomato___Target_Spot', 'Tomato___Tomato_Yellow_Leaf_Curl_Virus', 'Tomato___Tomato_mosaic_virus', 'Tomato___healthy'])"
      ]
     },
     "execution_count": 12,
     "metadata": {},
     "output_type": "execute_result"
    }
   ],
   "source": [
    "\n",
    "X_test.class_indices.keys()"
   ]
  },
  {
   "cell_type": "code",
   "execution_count": 6,
   "id": "4281f33c",
   "metadata": {},
   "outputs": [],
   "source": [
    "\n",
    "optimizer = tf.keras.optimizers.Adam(learning_rate=0.001)\n",
    "\n",
    "checkpoint=ModelCheckpoint(r'teatmodel.h5',\n",
    "                          monitor='val_loss',\n",
    "                          mode='min',\n",
    "                          save_best_only=True,)\n",
    "earlystop=EarlyStopping(monitor='val_loss',\n",
    "                       min_delta=0,\n",
    "                       patience=20,\n",
    "                       verbose=1,\n",
    "                       restore_best_weights=True)\n",
    "\n",
    "callbacks=[checkpoint,earlystop]   "
   ]
  },
  {
   "cell_type": "code",
   "execution_count": 13,
   "id": "46205357",
   "metadata": {},
   "outputs": [],
   "source": [
    "\n",
    "model=Sequential()\n",
    "model.add(Conv2D(32,(3,3),activation='relu',padding='same',input_shape=(size,size,3)))\n",
    "model.add(MaxPooling2D(2,2))\n",
    "model.add(Conv2D(16,(3,3),activation='relu',padding='same'))\n",
    "model.add(MaxPooling2D(2,2))\n",
    "model.add(Conv2D(8,(3,3),activation='relu',padding='same'))\n",
    "model.add(MaxPooling2D(2,2))\n",
    "model.add(Conv2D(8,(3,3),activation='relu',padding='same'))\n",
    "model.add(MaxPooling2D(2,2))\n",
    "model.add(Conv2D(8,(3,3),activation='relu',padding='same'))\n",
    "model.add(MaxPooling2D(2,2))\n",
    "model.add(Flatten())\n",
    "model.add(Dense(126,activation='relu'))\n",
    "model.add(Dense(10,activation='softmax'))\n",
    "\n",
    "\n",
    "model.compile(optimizer=tf.keras.optimizers.Adam(learning_rate=0.001),\n",
    "    loss='categorical_crossentropy',\n",
    "    metrics=['accuracy'])\n"
   ]
  },
  {
   "cell_type": "code",
   "execution_count": 14,
   "id": "bba7763c",
   "metadata": {},
   "outputs": [
    {
     "name": "stdout",
     "output_type": "stream",
     "text": [
      "Model: \"sequential_1\"\n",
      "_________________________________________________________________\n",
      " Layer (type)                Output Shape              Param #   \n",
      "=================================================================\n",
      " conv2d_5 (Conv2D)           (None, 224, 224, 32)      896       \n",
      "                                                                 \n",
      " max_pooling2d_5 (MaxPooling  (None, 112, 112, 32)     0         \n",
      " 2D)                                                             \n",
      "                                                                 \n",
      " conv2d_6 (Conv2D)           (None, 112, 112, 16)      4624      \n",
      "                                                                 \n",
      " max_pooling2d_6 (MaxPooling  (None, 56, 56, 16)       0         \n",
      " 2D)                                                             \n",
      "                                                                 \n",
      " conv2d_7 (Conv2D)           (None, 56, 56, 8)         1160      \n",
      "                                                                 \n",
      " max_pooling2d_7 (MaxPooling  (None, 28, 28, 8)        0         \n",
      " 2D)                                                             \n",
      "                                                                 \n",
      " conv2d_8 (Conv2D)           (None, 28, 28, 8)         584       \n",
      "                                                                 \n",
      " max_pooling2d_8 (MaxPooling  (None, 14, 14, 8)        0         \n",
      " 2D)                                                             \n",
      "                                                                 \n",
      " conv2d_9 (Conv2D)           (None, 14, 14, 8)         584       \n",
      "                                                                 \n",
      " max_pooling2d_9 (MaxPooling  (None, 7, 7, 8)          0         \n",
      " 2D)                                                             \n",
      "                                                                 \n",
      " flatten_1 (Flatten)         (None, 392)               0         \n",
      "                                                                 \n",
      " dense_2 (Dense)             (None, 126)               49518     \n",
      "                                                                 \n",
      " dense_3 (Dense)             (None, 10)                1270      \n",
      "                                                                 \n",
      "=================================================================\n",
      "Total params: 58,636\n",
      "Trainable params: 58,636\n",
      "Non-trainable params: 0\n",
      "_________________________________________________________________\n"
     ]
    }
   ],
   "source": [
    "model.summary()\n"
   ]
  },
  {
   "cell_type": "code",
   "execution_count": 15,
   "id": "3dad6393",
   "metadata": {},
   "outputs": [
    {
     "name": "stdout",
     "output_type": "stream",
     "text": [
      "Epoch 1/10\n",
      "2666/2666 [==============================] - ETA: 0s - loss: 2.3035 - accuracy: 0.0935\n",
      "Epoch 1: val_loss improved from inf to 2.30269, saving model to teatmodel.h5\n",
      "2666/2666 [==============================] - 370s 138ms/step - loss: 2.3035 - accuracy: 0.0935 - val_loss: 2.3027 - val_accuracy: 0.1001\n",
      "Epoch 2/10\n",
      "2666/2666 [==============================] - ETA: 0s - loss: 2.3034 - accuracy: 0.0950\n",
      "Epoch 2: val_loss did not improve from 2.30269\n",
      "2666/2666 [==============================] - 364s 137ms/step - loss: 2.3034 - accuracy: 0.0950 - val_loss: 2.3028 - val_accuracy: 0.1001\n",
      "Epoch 3/10\n",
      "2666/2666 [==============================] - ETA: 0s - loss: 2.3034 - accuracy: 0.0944\n",
      "Epoch 3: val_loss improved from 2.30269 to 2.30262, saving model to teatmodel.h5\n",
      "2666/2666 [==============================] - 365s 137ms/step - loss: 2.3034 - accuracy: 0.0944 - val_loss: 2.3026 - val_accuracy: 0.1001\n",
      "Epoch 4/10\n",
      "2666/2666 [==============================] - ETA: 0s - loss: 2.3033 - accuracy: 0.0912\n",
      "Epoch 4: val_loss improved from 2.30262 to 2.30261, saving model to teatmodel.h5\n",
      "2666/2666 [==============================] - 371s 139ms/step - loss: 2.3033 - accuracy: 0.0912 - val_loss: 2.3026 - val_accuracy: 0.1001\n",
      "Epoch 5/10\n",
      "2666/2666 [==============================] - ETA: 0s - loss: 2.3033 - accuracy: 0.0963\n",
      "Epoch 5: val_loss did not improve from 2.30261\n",
      "2666/2666 [==============================] - 345s 130ms/step - loss: 2.3033 - accuracy: 0.0963 - val_loss: 2.3026 - val_accuracy: 0.1001\n",
      "Epoch 6/10\n",
      "2666/2666 [==============================] - ETA: 0s - loss: 2.3033 - accuracy: 0.0928\n",
      "Epoch 6: val_loss did not improve from 2.30261\n",
      "2666/2666 [==============================] - 369s 138ms/step - loss: 2.3033 - accuracy: 0.0928 - val_loss: 2.3027 - val_accuracy: 0.1001\n",
      "Epoch 7/10\n",
      "2666/2666 [==============================] - ETA: 0s - loss: 2.3033 - accuracy: 0.0923\n",
      "Epoch 7: val_loss did not improve from 2.30261\n",
      "2666/2666 [==============================] - 355s 133ms/step - loss: 2.3033 - accuracy: 0.0923 - val_loss: 2.3026 - val_accuracy: 0.1001\n",
      "Epoch 8/10\n",
      "2666/2666 [==============================] - ETA: 0s - loss: 2.3033 - accuracy: 0.0928\n",
      "Epoch 8: val_loss did not improve from 2.30261\n",
      "2666/2666 [==============================] - 346s 130ms/step - loss: 2.3033 - accuracy: 0.0928 - val_loss: 2.3027 - val_accuracy: 0.1001\n",
      "Epoch 9/10\n",
      "2666/2666 [==============================] - ETA: 0s - loss: 2.3033 - accuracy: 0.0983\n",
      "Epoch 9: val_loss did not improve from 2.30261\n",
      "2666/2666 [==============================] - 355s 133ms/step - loss: 2.3033 - accuracy: 0.0983 - val_loss: 2.3026 - val_accuracy: 0.1001\n",
      "Epoch 10/10\n",
      "2666/2666 [==============================] - ETA: 0s - loss: 2.3033 - accuracy: 0.0947\n",
      "Epoch 10: val_loss did not improve from 2.30261\n",
      "2666/2666 [==============================] - 378s 142ms/step - loss: 2.3033 - accuracy: 0.0947 - val_loss: 2.3026 - val_accuracy: 0.1001\n"
     ]
    }
   ],
   "source": [
    "history = model.fit(x=X_train, \n",
    "                    validation_data=X_test,\n",
    "                    epochs = epoch,\n",
    "                    steps_per_epoch=X_train.samples//batch_size,\n",
    "                    validation_steps=X_test.samples//batch_size,\n",
    "                    callbacks=callbacks)"
   ]
  },
  {
   "cell_type": "code",
   "execution_count": 16,
   "id": "54355a40",
   "metadata": {},
   "outputs": [
    {
     "data": {
      "image/png": "[encoded data removed]",
      "text/plain": [
       "<Figure size 1080x1080 with 2 Axes>"
      ]
     },
     "metadata": {
      "needs_background": "light"
     },
     "output_type": "display_data"
    }
   ],
   "source": [
    "acc = history.history['accuracy']\n",
    "val_acc = history.history['val_accuracy']\n",
    "loss = history.history['loss']\n",
    "val_loss = history.history['val_loss']\n",
    "epochs_range = range(1,11)\n",
    "\n",
    "plt.figure(figsize=(15, 15))\n",
    "plt.subplot(2, 2, 1)\n",
    "plt.plot(epochs_range, acc, label='Training Accuracy')\n",
    "plt.plot(epochs_range, val_acc, label='Validation Accuracy')\n",
    "plt.legend(loc='lower right')\n",
    "plt.title('Training and Validation Accuracy')\n",
    "\n",
    "plt.subplot(2, 2, 2)\n",
    "plt.plot(epochs_range, loss, label='Training Loss')\n",
    "plt.plot(epochs_range, val_loss, label='Validation Loss')\n",
    "plt.legend(loc='upper right')\n",
    "plt.title('Training and Validation Loss')\n",
    "plt.show()"
   ]
  }
 ],
 "metadata": {
  "kernelspec": {
   "display_name": "Python 3 (ipykernel)",
   "language": "python",
   "name": "python3"
  },
  "language_info": {
   "codemirror_mode": {
    "name": "ipython",
    "version": 3
   },
   "file_extension": ".py",
   "mimetype": "text/x-python",
   "name": "python",
   "nbconvert_exporter": "python",
   "pygments_lexer": "ipython3",
   "version": "3.10.7"
  }
 },
 "nbformat": 4,
 "nbformat_minor": 5
}
